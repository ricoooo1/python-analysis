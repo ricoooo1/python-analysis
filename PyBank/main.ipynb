{
 "cells": [
  {
   "cell_type": "code",
   "execution_count": 1,
   "metadata": {},
   "outputs": [],
   "source": [
    "import csv"
   ]
  },
  {
   "cell_type": "code",
   "execution_count": 2,
   "metadata": {},
   "outputs": [],
   "source": [
    "load_file = 'budget_data.csv'"
   ]
  },
  {
   "cell_type": "code",
   "execution_count": 3,
   "metadata": {},
   "outputs": [],
   "source": [
    "with open(load_file) as revenue_data:\n",
    "    reader = csv.reader(revenue_data)\n",
    "\n",
    "\n",
    "    next(reader)\n",
    "    revenue = []\n",
    "    date = []\n",
    "    rev_change = []\n",
    "   \n",
    "    for row in reader:\n",
    "        date.append(row[0])\n",
    "        revenue.append(float(row[1]))           "
   ]
  },
  {
   "cell_type": "code",
   "execution_count": 4,
   "metadata": {},
   "outputs": [
    {
     "name": "stdout",
     "output_type": "stream",
     "text": [
      "*** financial analysis***\n",
      "--------------------------\n",
      "total months: 86\n",
      "total revenue: $ 38382578.0\n"
     ]
    }
   ],
   "source": [
    "\n"
   ]
  },
  {
   "cell_type": "code",
   "execution_count": 7,
   "metadata": {},
   "outputs": [],
   "source": [
    "for i in range(1,len(revenue)):\n",
    "    rev_change.append(revenue[i] - revenue[i-1])\n",
    "    avg_rev_change = sum(rev_change)/len(rev_change)\n",
    "    \n",
    "    max_rev_change = max(rev_change)\n",
    "    \n",
    "    min_rev_change = min(rev_change)\n",
    "    \n",
    "    max_rev_change_date = str(date[rev_change.index(max(rev_change))])\n",
    "    min_rev_change_date = str(date[rev_change.index(min(rev_change))])\n",
    "\n",
    "                    "
   ]
  },
  {
   "cell_type": "code",
   "execution_count": 10,
   "metadata": {},
   "outputs": [
    {
     "name": "stdout",
     "output_type": "stream",
     "text": [
      "*** financial analysis***\n",
      "--------------------------\n",
      "total months: 86\n",
      "total revenue: $ 38382578.0\n",
      "Avereage Revenue Change: $ -2315\n",
      "Greatest Increase in Revenue: Jan-2012 ($ 1926159.0 )\n",
      "Greatest Decrease in Revenue: Aug-2013 ($ -2196167.0 )\n"
     ]
    }
   ],
   "source": [
    "print('*** financial analysis***')\n",
    "print('--------------------------')\n",
    "print(\"total months:\", len(date))\n",
    "print(\"total revenue: $\", sum(revenue))\n",
    "print(\"Avereage Revenue Change: $\", round(avg_rev_change))\n",
    "print(\"Greatest Increase in Revenue:\", max_rev_change_date,\"($\", max_rev_change,\")\")\n",
    "print(\"Greatest Decrease in Revenue:\", min_rev_change_date,\"($\", min_rev_change,\")\")"
   ]
  },
  {
   "cell_type": "code",
   "execution_count": 18,
   "metadata": {},
   "outputs": [],
   "source": [
    "from pathlib import Path"
   ]
  },
  {
   "cell_type": "code",
   "execution_count": 19,
   "metadata": {},
   "outputs": [
    {
     "data": {
      "text/plain": [
       "PosixPath('/Users/blakehightower/Desktop/Homeworks/python-analysis/PyBank')"
      ]
     },
     "execution_count": 19,
     "metadata": {},
     "output_type": "execute_result"
    }
   ],
   "source": [
    "Path.cwd()"
   ]
  },
  {
   "cell_type": "code",
   "execution_count": 20,
   "metadata": {},
   "outputs": [],
   "source": [
    "outputpath = Path(\"../PyBank/PybankAnalysis.txt\")"
   ]
  },
  {
   "cell_type": "code",
   "execution_count": 21,
   "metadata": {},
   "outputs": [],
   "source": [
    "with open(outputpath, 'w') as file_output:\n",
    "    file_output.write(\"**Financial Analysis**\\n\")\n",
    "    file_output.write(\"-----------------------------------\\n\")\n",
    "    file_output.write(\"Total Months: 86\\n\")\n",
    "    file_output.write(\"Total Revenue: $ 38382578.0\\n\")\n",
    "    file_output.write(\"Avereage Change: $ -2315\\n\")\n",
    "    file_output.write(\"Greatest Increase in Profits: Jan-2012 ($ 1926159.0 )\\n\")\n",
    "    file_output.write(\"Greatest Decrease in Profits: Aug-2013 ($ -2196167.0 )\")"
   ]
  },
  {
   "cell_type": "code",
   "execution_count": null,
   "metadata": {},
   "outputs": [],
   "source": []
  },
  {
   "cell_type": "code",
   "execution_count": null,
   "metadata": {},
   "outputs": [],
   "source": []
  }
 ],
 "metadata": {
  "kernelspec": {
   "display_name": "Python 3",
   "language": "python",
   "name": "python3"
  },
  "language_info": {
   "codemirror_mode": {
    "name": "ipython",
    "version": 3
   },
   "file_extension": ".py",
   "mimetype": "text/x-python",
   "name": "python",
   "nbconvert_exporter": "python",
   "pygments_lexer": "ipython3",
   "version": "3.8.3"
  }
 },
 "nbformat": 4,
 "nbformat_minor": 4
}
