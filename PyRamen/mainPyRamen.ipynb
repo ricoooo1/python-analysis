{
 "cells": [
  {
   "cell_type": "code",
   "execution_count": 1,
   "metadata": {},
   "outputs": [],
   "source": [
    "import csv\n",
    "from pathlib import Path"
   ]
  },
  {
   "cell_type": "code",
   "execution_count": 2,
   "metadata": {},
   "outputs": [],
   "source": [
    "menu_file = \"menu_data.csv\"\n",
    "sales_file = 'sales_data.csv'"
   ]
  },
  {
   "cell_type": "code",
   "execution_count": 3,
   "metadata": {},
   "outputs": [],
   "source": [
    "menu = []\n",
    "sales = []\n",
    "report = {}\n"
   ]
  },
  {
   "cell_type": "code",
   "execution_count": 4,
   "metadata": {},
   "outputs": [],
   "source": [
    "with open(menu_file) as menu_data:\n",
    "    csvreader = csv.reader(menu_data, delimiter = ',')\n",
    "    \n",
    "    csv_header = next(csvreader)\n",
    "    \n",
    "    for data in csv.reader(menu_data):\n",
    "        menu.append(data)"
   ]
  },
  {
   "cell_type": "code",
   "execution_count": 5,
   "metadata": {},
   "outputs": [],
   "source": [
    "with open(sales_file) as sales_data:\n",
    "    csvreader = csv.reader(sales_data, delimiter = ',')\n",
    "    \n",
    "    csv_header = next(csvreader)\n",
    "    \n",
    "    for row in csv.reader(sales_data):\n",
    "        sales.append(row)"
   ]
  },
  {
   "cell_type": "code",
   "execution_count": 6,
   "metadata": {},
   "outputs": [],
   "source": [
    "row_count = 0\n",
    "count = 0\n",
    "revenue = 0\n",
    "cogs = 0\n",
    "profit = 0\n"
   ]
  },
  {
   "cell_type": "code",
   "execution_count": 13,
   "metadata": {},
   "outputs": [
    {
     "name": "stdout",
     "output_type": "stream",
     "text": [
      "{'spicy miso ramen': {'count': 1, 'revenue': 0, 'cogs': 0, 'profit': 0}, 'tori paitan ramen': {'count': 3, 'revenue': 0, 'cogs': 0, 'profit': 0}, 'truffle butter ramen': {'count': 1, 'revenue': 0, 'cogs': 0, 'profit': 0}, 'tonkotsu ramen': {'count': 1, 'revenue': 0, 'cogs': 0, 'profit': 0}, 'vegetarian spicy miso': {'count': 1, 'revenue': 0, 'cogs': 0, 'profit': 0}, 'shio ramen': {'count': 1, 'revenue': 0, 'cogs': 0, 'profit': 0}, 'miso crab ramen': {'count': 4, 'revenue': 0, 'cogs': 0, 'profit': 0}, 'nagomi shoyu': {'count': 1, 'revenue': 0, 'cogs': 0, 'profit': 0}, 'soft-shell miso crab ramen': {'count': 1, 'revenue': 0, 'cogs': 0, 'profit': 0}, 'burnt garlic tonkotsu ramen': {'count': 1, 'revenue': 0, 'cogs': 0, 'profit': 0}, 'vegetarian curry + king trumpet mushroom ramen': {'count': 1, 'revenue': 0, 'cogs': 0, 'profit': 0}}\n"
     ]
    }
   ],
   "source": [
    "for x in sales:\n",
    "    count = int(x[3])\n",
    "    sales_item = x[4]\n",
    "    if sales_item not in report.keys():\n",
    "        report[sales_item] = {\n",
    "            'count': count,\n",
    "            \"revenue\": revenue,\n",
    "            'cogs': cogs,\n",
    "            'profit': profit,\n",
    "    \n",
    "            \n",
    "        }\n",
    "        \n",
    "    for y in menu:\n",
    "        item = x[0]\n",
    "        price = x[3]\n",
    "        cost = x[4]\n",
    "        if sales_item == item:\n",
    "            report[sales_item]['count'] += count\n",
    "            report[sales_item]['revenue'] += float (price) * count\n",
    "            report[sales_item]['cogs'] += float(cost) * count\n",
    "            report[sales_item]['profit'] += (float (price)- float (cost))* count\n",
    "            \n",
    "        row_count += 1\n",
    "\n",
    "print(report)\n",
    "        "
   ]
  },
  {
   "cell_type": "code",
   "execution_count": 19,
   "metadata": {},
   "outputs": [],
   "source": [
    "output = Path('output.txt')"
   ]
  },
  {
   "cell_type": "code",
   "execution_count": 21,
   "metadata": {},
   "outputs": [],
   "source": [
    "with open (output, 'w') as file_output:\n",
    "    file_output.write(\"spicy miso ramen': {'count': 9239, 'revenue': 110856.0, 'cogs': 46190.0, 'profit': 64666.0},\\n\")\n",
    "    file_output.write(\"tori paitan ramen': {'count': 9159, 'revenue': 119028.0, 'cogs': 54936.0, 'profit': 64092.0}\\n\")\n",
    "    file_output.write(\"truffle butter ramen': {'count': 8983, 'revenue': 125748.0, 'cogs': 62874.0, 'profit': 62874.0}\\n\")\n",
    "    file_output.write(\"tonkotsu ramen': {'count': 9289, 'revenue': 120744.0, 'cogs': 55728.0, 'profit': 65016.0}\\n\")\n",
    "    file_output.write(\"vegetarian spicy miso': {'count': 9217, 'revenue': 110592.0, 'cogs': 46080.0, 'profit': 64512.0}\\n\")\n",
    "    file_output.write(\"shio ramen': {'count': 9181, 'revenue': 100980.0, 'cogs': 45900.0, 'profit': 55080.0}\\n\")\n",
    "    output = Path(\"output.txt\")\n",
    "    file_output.write(\"miso crab ramen': {'count': 8894, 'revenue': 106680.0, 'cogs': 53340.0, 'profit': 53340.0}\\n\")\n",
    "    file_output.write(\"nagomi shoyu': {'count': 9133, 'revenue': 100452.0, 'cogs': 45660.0, 'profit': 54792.0}\\n\")\n",
    "    file_output.write(\"soft-shell miso crab ramen': {'count': 9131, 'revenue': 127820.0, 'cogs': 63910.0, 'profit': 63910.0\\n\")\n",
    "    file_output.write(\"burnt garlic tonkotsu ramen': {'count': 9071, 'revenue': 126980.0, 'cogs': 54420.0, 'profit': 72560.0}\\n\")\n",
    "    file_output.write(\"vegetarian curry + king trumpet mushroom ramen': {'count': 8825, 'revenue': 114712.0, 'cogs': 61768.0, 'profit': 52944.0}\")"
   ]
  },
  {
   "cell_type": "code",
   "execution_count": null,
   "metadata": {},
   "outputs": [],
   "source": []
  }
 ],
 "metadata": {
  "kernelspec": {
   "display_name": "Python 3",
   "language": "python",
   "name": "python3"
  },
  "language_info": {
   "codemirror_mode": {
    "name": "ipython",
    "version": 3
   },
   "file_extension": ".py",
   "mimetype": "text/x-python",
   "name": "python",
   "nbconvert_exporter": "python",
   "pygments_lexer": "ipython3",
   "version": "3.8.3"
  }
 },
 "nbformat": 4,
 "nbformat_minor": 4
}
